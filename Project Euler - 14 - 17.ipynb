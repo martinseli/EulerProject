{
 "cells": [
  {
   "cell_type": "markdown",
   "metadata": {},
   "source": [
    "# Problem 14"
   ]
  },
  {
   "cell_type": "markdown",
   "metadata": {},
   "source": [
    "Longest Collatz sequence\n",
    "\n",
    "The following iterative sequence is defined for the set of positive integers:\n",
    "\n",
    "n → n/2 (n is even)\n",
    "n → 3n + 1 (n is odd)\n",
    "\n",
    "Using the rule above and starting with 13, we generate the following sequence:\n",
    "\n",
    "13 → 40 → 20 → 10 → 5 → 16 → 8 → 4 → 2 → 1\n",
    "It can be seen that this sequence (starting at 13 and finishing at 1) contains 10 terms. Although it has not been proved yet (Collatz Problem), it is thought that all starting numbers finish at 1.\n",
    "\n",
    "Which starting number, under one million, produces the longest chain?\n",
    "\n",
    "NOTE: Once the chain starts the terms are allowed to go above one million.\n"
   ]
  },
  {
   "cell_type": "code",
   "execution_count": 34,
   "metadata": {
    "collapsed": false
   },
   "outputs": [],
   "source": [
    "col = {'2':2, '4':3, '8':4, '16':5}"
   ]
  },
  {
   "cell_type": "code",
   "execution_count": 35,
   "metadata": {
    "collapsed": false
   },
   "outputs": [],
   "source": [
    "def calcula_col(x,col):\n",
    "    cont = 1\n",
    "    aux = x\n",
    "    \n",
    "    while aux != 1:\n",
    "    \n",
    "        if (aux%2 == 0):\n",
    "            aux = aux/2\n",
    "        else:\n",
    "            aux = 3*aux +1\n",
    "    \n",
    "        cont += 1\n",
    "    \n",
    "    cont_2 = cont\n",
    "    \n",
    "    while str(int(x)) not in col:\n",
    "        col[str(int(x))] = cont_2\n",
    "        \n",
    "        if (x%2 == 0):\n",
    "            x = x/2\n",
    "        else:\n",
    "            x = 3*x +1\n",
    "            \n",
    "        cont_2 -= 1\n",
    "    \n",
    "    \n",
    "    return cont, col"
   ]
  },
  {
   "cell_type": "code",
   "execution_count": 42,
   "metadata": {
    "collapsed": false
   },
   "outputs": [
    {
     "name": "stdout",
     "output_type": "stream",
     "text": [
      "{'35': 14, '3': 8, '58': 20, '160': 11, '29': 19, '7': 17, '23': 16, '20': 8, '44': 17, '22': 16, '10': 7, '8': 4, '17': 13, '26': 11, '12': 10, '88': 18, '106': 13, '19': 21, '13': 10, '6': 9, '46': 17, '16': 5, '2': 2, '11': 15, '40': 9, '15': 18, '53': 12, '14': 18, '80': 10, '70': 15, '5': 6, '18': 21, '4': 3, '52': 12, '28': 19, '9': 20, '34': 14}\n"
     ]
    },
    {
     "data": {
      "text/plain": [
       "('19', 21)"
      ]
     },
     "execution_count": 42,
     "metadata": {},
     "output_type": "execute_result"
    }
   ],
   "source": [
    "#teste\n",
    "n = 20\n",
    "\n",
    "for i in range(2,n):\n",
    "    calcula_col(i, col)\n",
    "    \n",
    "print(col)\n",
    "max(col.items(), key=lambda k: k[1])"
   ]
  },
  {
   "cell_type": "code",
   "execution_count": 43,
   "metadata": {
    "collapsed": false
   },
   "outputs": [
    {
     "data": {
      "text/plain": [
       "('837799', 525)"
      ]
     },
     "execution_count": 43,
     "metadata": {},
     "output_type": "execute_result"
    }
   ],
   "source": [
    "n = 1000000\n",
    "\n",
    "for i in range(2,n):\n",
    "    calcula_col(i, col)\n",
    "    \n",
    "max(col.items(), key=lambda k: k[1])"
   ]
  },
  {
   "cell_type": "markdown",
   "metadata": {},
   "source": [
    "## Problem 15"
   ]
  },
  {
   "cell_type": "markdown",
   "metadata": {},
   "source": [
    "Lattice paths\n",
    "\n",
    "Starting in the top left corner of a 2×2 grid, and only being able to move to the right and down, there are exactly 6 routes to the bottom right corner\n",
    "How many such routes are there through a 20×20 grid?"
   ]
  },
  {
   "cell_type": "markdown",
   "metadata": {},
   "source": [
    "In a 2x2 grid there is 4 movements to be done, 2 rights and 2 downs. The total is a C(4,2) = 6\n",
    "\n",
    "So in a 20 x grid, there is 40 movements to be done: 20 rights and 20 downs. It's C(40,20)"
   ]
  },
  {
   "cell_type": "code",
   "execution_count": 47,
   "metadata": {
    "collapsed": false
   },
   "outputs": [
    {
     "data": {
      "text/plain": [
       "137846528820.00006"
      ]
     },
     "execution_count": 47,
     "metadata": {},
     "output_type": "execute_result"
    }
   ],
   "source": [
    "from scipy.misc import comb\n",
    "\n",
    "comb(40,20)"
   ]
  },
  {
   "cell_type": "markdown",
   "metadata": {},
   "source": [
    "\n",
    "## Problem 16"
   ]
  },
  {
   "cell_type": "markdown",
   "metadata": {},
   "source": [
    "Power digit sum\n",
    "\n",
    "215 = 32768 and the sum of its digits is 3 + 2 + 7 + 6 + 8 = 26.\n",
    "\n",
    "What is the sum of the digits of the number 21000?"
   ]
  },
  {
   "cell_type": "code",
   "execution_count": 55,
   "metadata": {
    "collapsed": false
   },
   "outputs": [
    {
     "name": "stdout",
     "output_type": "stream",
     "text": [
      "10715086071862673209484250490600018105614048117055336074437503883703510511249361224931983788156958581275946729175531468251871452856923140435984577574698574803934567774824230985421074605062371141877954182153046474983581941267398767559165543946077062914571196477686542167660429831652624386837205668069376\n"
     ]
    },
    {
     "data": {
      "text/plain": [
       "302"
      ]
     },
     "execution_count": 55,
     "metadata": {},
     "output_type": "execute_result"
    }
   ],
   "source": [
    "X = 2**1000\n",
    "print(X)\n",
    "len(str(X))"
   ]
  },
  {
   "cell_type": "code",
   "execution_count": 56,
   "metadata": {
    "collapsed": false
   },
   "outputs": [
    {
     "name": "stdout",
     "output_type": "stream",
     "text": [
      "1366\n"
     ]
    }
   ],
   "source": [
    "tamanho = len(str(X))\n",
    "X_str = str(X)\n",
    "\n",
    "soma = 0\n",
    "\n",
    "for i in range(tamanho):\n",
    "    soma = soma +  int(X_str[i])\n",
    "    \n",
    "print(soma)"
   ]
  },
  {
   "cell_type": "markdown",
   "metadata": {},
   "source": [
    "## Problem 17"
   ]
  },
  {
   "cell_type": "markdown",
   "metadata": {},
   "source": [
    "Number letter counts\n",
    "\n",
    "If the numbers 1 to 5 are written out in words: one, two, three, four, five, then there are 3 + 3 + 5 + 4 + 4 = 19 letters used in total.\n",
    "\n",
    "If all the numbers from 1 to 1000 (one thousand) inclusive were written out in words, how many letters would be used?\n",
    "\n",
    "\n",
    "NOTE: Do not count spaces or hyphens. For example, 342 (three hundred and forty-two) contains 23 letters and 115 (one hundred and fifteen) contains 20 letters. The use of \"and\" when writing out numbers is in compliance with British usage."
   ]
  },
  {
   "cell_type": "code",
   "execution_count": 125,
   "metadata": {
    "collapsed": true
   },
   "outputs": [],
   "source": [
    "list1 = ['one', 'two', 'three', 'four', 'five', 'six', 'seven', 'eight', 'nine']\n",
    "list2 = ['ten','eleven', 'twelve', 'thirteen', 'fourteen', 'fifteen', 'sixteen', 'seventeen', 'eighteen', 'nineteen']\n",
    "list3 = ['twenty', 'thirty', 'forty', 'fifty', 'sixty', 'seventy', 'eighty', 'ninety']\n",
    "list4 = ['hundred', 'hundred and', 'one thousand']"
   ]
  },
  {
   "cell_type": "code",
   "execution_count": 126,
   "metadata": {
    "collapsed": false
   },
   "outputs": [],
   "source": [
    "list1_total = []\n",
    "for i in range(9):\n",
    "    list1_total.append(len(list1[i]))\n",
    "    \n",
    "list2_total = []\n",
    "for i in range(10):\n",
    "    list2_total.append(len(list2[i]))\n",
    "    \n",
    "list3_total = []\n",
    "for i in range(8):\n",
    "    list3_total.append(len(list3[i]))\n",
    "    \n",
    "list4_total = [7,10,11]"
   ]
  },
  {
   "cell_type": "code",
   "execution_count": 127,
   "metadata": {
    "collapsed": false
   },
   "outputs": [
    {
     "name": "stdout",
     "output_type": "stream",
     "text": [
      "36 70 46\n",
      "854\n"
     ]
    }
   ],
   "source": [
    "total1 = sum(list1_total)\n",
    "total2 = sum(list2_total)\n",
    "total3 = sum(list3_total)\n",
    "\n",
    "total_one_to_ninety = total1*9 + total2 + total3*10\n",
    "print(total1, total2, total3)\n",
    "print(total_one_to_ninety)"
   ]
  },
  {
   "cell_type": "code",
   "execution_count": 128,
   "metadata": {
    "collapsed": false
   },
   "outputs": [
    {
     "name": "stdout",
     "output_type": "stream",
     "text": [
      "2151\n",
      "20259\n"
     ]
    }
   ],
   "source": [
    "total_100_to_199 = (3 + list4_total[0]) + (3 + list4_total[1])*99 + total_one_to_ninety\n",
    "\n",
    "print(total_100_to_199)\n",
    "\n",
    "total_100_to_999 = (total1 + 9*list4_total[0]) + (total1 + 9*list4_total[1])*99 + 9*total_one_to_ninety\n",
    "print(total_100_to_999)"
   ]
  },
  {
   "cell_type": "code",
   "execution_count": 129,
   "metadata": {
    "collapsed": false
   },
   "outputs": [
    {
     "name": "stdout",
     "output_type": "stream",
     "text": [
      "21124\n"
     ]
    }
   ],
   "source": [
    "Total = total_one_to_ninety + total_100_to_999 + list4_total[2]\n",
    "print(Total)"
   ]
  }
 ],
 "metadata": {
  "kernelspec": {
   "display_name": "Python 3",
   "language": "python",
   "name": "python3"
  },
  "language_info": {
   "codemirror_mode": {
    "name": "ipython",
    "version": 3
   },
   "file_extension": ".py",
   "mimetype": "text/x-python",
   "name": "python",
   "nbconvert_exporter": "python",
   "pygments_lexer": "ipython3",
   "version": "3.6.0"
  }
 },
 "nbformat": 4,
 "nbformat_minor": 0
}
