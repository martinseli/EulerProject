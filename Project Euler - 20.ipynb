{
 "cells": [
  {
   "cell_type": "markdown",
   "metadata": {},
   "source": [
    "# Problem 20"
   ]
  },
  {
   "cell_type": "markdown",
   "metadata": {},
   "source": [
    "Factorial digit sum\n",
    "\n",
    "n! means n × (n − 1) × ... × 3 × 2 × 1\n",
    "\n",
    "For example, 10! = 10 × 9 × ... × 3 × 2 × 1 = 3628800,\n",
    "and the sum of the digits in the number 10! is 3 + 6 + 2 + 8 + 8 + 0 + 0 = 27.\n",
    "\n",
    "Find the sum of the digits in the number 100!"
   ]
  },
  {
   "cell_type": "code",
   "execution_count": 41,
   "metadata": {
    "collapsed": false
   },
   "outputs": [
    {
     "name": "stdout",
     "output_type": "stream",
     "text": [
      "323680510640043784471297807946262418177301256542924258862716038557541153440651473035605563988567102078345805824\n",
      "323680510640043784471297807946262418177301256542924258862716038557541153440651473035605563988567102078345805824\n"
     ]
    }
   ],
   "source": [
    "number = 1\n",
    "\n",
    "for i in range(1,101):\n",
    "    if str(i)[-1] != '2' and str(i)[-1] != '5' and str(i)[-1] != '0':\n",
    "        number = number * i\n",
    "\n",
    "print(number)"
   ]
  },
  {
   "cell_type": "code",
   "execution_count": 42,
   "metadata": {
    "collapsed": false
   },
   "outputs": [
    {
     "name": "stdout",
     "output_type": "stream",
     "text": [
      "28832818898920261659033600000000000000\n",
      "288328188989202616590336\n"
     ]
    }
   ],
   "source": [
    "produto = 1\n",
    "\n",
    "for i in range(10):\n",
    "    if i == 0:\n",
    "        a = 2\n",
    "        b = 5\n",
    "    else: \n",
    "        a = int(str(i)+str(2))\n",
    "        b = int(str(i)+str(5))\n",
    "    produto = produto * a * b * (i+1)\n",
    "    \n",
    "print(produto)\n",
    "\n",
    "produto_str = str(produto)\n",
    "\n",
    "while produto_str[-1] == '0':\n",
    "    produto_str = produto_str[:-1]\n",
    "\n",
    "print(produto_str)\n",
    "\n",
    "produto = int(produto_str)"
   ]
  },
  {
   "cell_type": "code",
   "execution_count": 44,
   "metadata": {
    "collapsed": false
   },
   "outputs": [
    {
     "name": "stdout",
     "output_type": "stream",
     "text": [
      "93326215443944152681699238856266700490715968264381621468592963895217599993229915608941463976156518286253697920827223758251185210916864\n",
      "648\n"
     ]
    }
   ],
   "source": [
    "numero_final = number * produto\n",
    "print(numero_final)\n",
    "\n",
    "numero_final_str = str(numero_final)\n",
    "tamanho = len(numero_final_str)\n",
    "\n",
    "soma = 0\n",
    "for i in range(tamanho):\n",
    "    soma += int(numero_final_str[i])\n",
    "    \n",
    "print(soma)"
   ]
  }
 ],
 "metadata": {
  "kernelspec": {
   "display_name": "Python 3",
   "language": "python",
   "name": "python3"
  },
  "language_info": {
   "codemirror_mode": {
    "name": "ipython",
    "version": 3
   },
   "file_extension": ".py",
   "mimetype": "text/x-python",
   "name": "python",
   "nbconvert_exporter": "python",
   "pygments_lexer": "ipython3",
   "version": "3.6.0"
  }
 },
 "nbformat": 4,
 "nbformat_minor": 2
}
