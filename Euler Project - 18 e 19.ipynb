{
 "cells": [
  {
   "cell_type": "markdown",
   "metadata": {},
   "source": [
    "# Problem 18\n"
   ]
  },
  {
   "cell_type": "markdown",
   "metadata": {},
   "source": [
    "Maximum path sum I\n",
    "\n",
    "By starting at the top of the triangle below and moving to adjacent numbers on the row below, the maximum total from top to bottom is 23.\n",
    "\n",
    "3\n",
    "7 4\n",
    "2 4 6\n",
    "8 5 9 3\n",
    "\n",
    "That is, 3 + 7 + 4 + 9 = 23.\n",
    "\n",
    "Find the maximum total from top to bottom of the triangle below:\n",
    "\n",
    "75\n",
    "95 64\n",
    "17 47 82\n",
    "18 35 87 10\n",
    "20 04 82 47 65\n",
    "19 01 23 75 03 34\n",
    "88 02 77 73 07 63 67\n",
    "99 65 04 28 06 16 70 92\n",
    "41 41 26 56 83 40 80 70 33\n",
    "41 48 72 33 47 32 37 16 94 29\n",
    "53 71 44 65 25 43 91 52 97 51 14\n",
    "70 11 33 28 77 73 17 78 39 68 17 57\n",
    "91 71 52 38 17 14 91 43 58 50 27 29 48\n",
    "63 66 04 68 89 53 67 30 73 16 69 87 40 31\n",
    "04 62 98 27 23 09 70 98 73 93 38 53 60 04 23\n"
   ]
  },
  {
   "cell_type": "code",
   "execution_count": 2,
   "metadata": {
    "collapsed": true
   },
   "outputs": [],
   "source": [
    "triangle = [[75], [95, 64], [17, 47, 82], [18, 35, 87, 10], [20, 4, 82, 47, 65], [19, 1, 23, 75, 3, 34], \n",
    "            [88, 2, 77, 73, 7, 63, 67], [99, 65, 4, 28, 6, 16, 70, 92], [41, 41, 26, 56, 83, 40, 80, 70, 33], \n",
    "            [41, 48, 72, 33, 47, 32, 37, 16, 94, 29], [53, 71, 44, 65, 25, 43, 91, 52, 97, 51, 14], \n",
    "            [70, 11, 33, 28, 77, 73, 17, 78, 39, 68, 17, 57], [91, 71, 52, 38, 17, 14, 91, 43, 58, 50, 27, 29, 48],\n",
    "            [63, 66, 4, 68, 89, 53, 67, 30, 73, 16, 69, 87, 40, 31], [4, 62, 98, 27, 23, 9, 70, 98, 73, 93, 38, 53, 60, 4, 23]]\n",
    "\n"
   ]
  },
  {
   "cell_type": "code",
   "execution_count": 9,
   "metadata": {
    "collapsed": false
   },
   "outputs": [
    {
     "name": "stdout",
     "output_type": "stream",
     "text": [
      "1074\n"
     ]
    }
   ],
   "source": [
    "n = 15 #number of lines and numbers on the base\n",
    "\n",
    "for i in range(13,-1,-1):\n",
    "    for j in range(i+1):\n",
    "        if triangle[i+1][j] > triangle[i+1][j+1]:\n",
    "            triangle[i][j] += triangle[i+1][j]\n",
    "        else:\n",
    "            triangle[i][j] += triangle[i+1][j+1]\n",
    "            \n",
    "print(triangle[0][0])\n",
    "        "
   ]
  },
  {
   "cell_type": "markdown",
   "metadata": {},
   "source": [
    "# Problem 19"
   ]
  },
  {
   "cell_type": "markdown",
   "metadata": {},
   "source": [
    "You are given the following information, but you may prefer to do some research for yourself.\n",
    "\n",
    "1 Jan 1900 was a Monday.\n",
    "Thirty days has September,\n",
    "April, June and November.\n",
    "All the rest have thirty-one,\n",
    "Saving February alone,\n",
    "Which has twenty-eight, rain or shine.\n",
    "And on leap years, twenty-nine.\n",
    "A leap year occurs on any year evenly divisible by 4, but not on a century unless it is divisible by 400.\n",
    "How many Sundays fell on the first of the month during the twentieth century (1 Jan 1901 to 31 Dec 2000)?"
   ]
  },
  {
   "cell_type": "code",
   "execution_count": 2,
   "metadata": {
    "collapsed": true
   },
   "outputs": [],
   "source": [
    "#I'm going to treat the week days as mod 7, Monday is 0, Tuesday is 1,..., Sunday is 6. The input is which number corresponds\n",
    "# the first day of each month in 1901.\n",
    "\n",
    "def sundays_JF(n):\n",
    "    #for january and february\n",
    "    count_sunday = 0\n",
    "    soma = n\n",
    "    \n",
    "    if n == 6:\n",
    "        count_sunday += 1\n",
    "    \n",
    "    for i in range(2,101):\n",
    "        soma += 1\n",
    "    \n",
    "        if (i-1)%4 == 0:\n",
    "            soma += 1\n",
    "\n",
    "        if soma%7 == 6:\n",
    "            count_sunday += 1\n",
    "\n",
    "    return count_sunday\n",
    "    \n",
    "\n",
    "def sundays(n):\n",
    "    #for the other months\n",
    "    count_sunday = 0\n",
    "    soma = n\n",
    "    \n",
    "    if n == 6:\n",
    "        count_sunday += 1\n",
    "    \n",
    "    for i in range(2,101):\n",
    "        soma += 1\n",
    "    \n",
    "        if (i)%4 == 0:\n",
    "            soma += 1\n",
    "\n",
    "        if soma%7 == 6:\n",
    "            count_sunday += 1\n",
    "\n",
    "    return count_sunday    "
   ]
  },
  {
   "cell_type": "markdown",
   "metadata": {},
   "source": [
    "#I'm going to treat the week days as mod 7, Monday is 0, Tuesday is 1,..., Sunday is 6.\n",
    "\n",
    "#January - 01/1901 is a Tuesday (1)\n",
    "#February - 02/1901 is a Friday (4)\n",
    "#March - 03/1901 is a Friday (4)\n",
    "#April - 04/1901 is a Monday (0)\n",
    "#May - 05/1901 is a Wednesday (2)\n",
    "#June - 06/1901 is a Saturday (5)\n",
    "#July - 07/1901 is a Monday (0)\n",
    "#August - 08/1901 is a Thursday (3)\n",
    "#September - 09/1901 is a Sunday (6)\n",
    "#October - 10/1901 is a Tuesday (1)\n",
    "#November - 11/1901 is a Friday (4)\n",
    "#December - 12/1901 is a Sunday (6)"
   ]
  },
  {
   "cell_type": "code",
   "execution_count": 3,
   "metadata": {
    "collapsed": false
   },
   "outputs": [
    {
     "data": {
      "text/plain": [
       "171"
      ]
     },
     "execution_count": 3,
     "metadata": {},
     "output_type": "execute_result"
    }
   ],
   "source": [
    "sundays_JF(1) + sundays_JF(4) + sundays(4) + sundays(0) + sundays(2) + sundays(5) + sundays(0) + sundays(3) + sundays(6) + sundays(1) + sundays(4) + sundays(6)"
   ]
  }
 ],
 "metadata": {
  "kernelspec": {
   "display_name": "Python 3",
   "language": "python",
   "name": "python3"
  },
  "language_info": {
   "codemirror_mode": {
    "name": "ipython",
    "version": 3
   },
   "file_extension": ".py",
   "mimetype": "text/x-python",
   "name": "python",
   "nbconvert_exporter": "python",
   "pygments_lexer": "ipython3",
   "version": "3.6.0"
  }
 },
 "nbformat": 4,
 "nbformat_minor": 2
}
