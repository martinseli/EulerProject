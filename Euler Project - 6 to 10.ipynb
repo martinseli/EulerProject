{
 "cells": [
  {
   "cell_type": "markdown",
   "metadata": {},
   "source": [
    "# Problem 6"
   ]
  },
  {
   "cell_type": "markdown",
   "metadata": {},
   "source": [
    "The sum of the squares of the first ten natural numbers is, 1^2 + 2^2 + ... + 10^2 = 385\n",
    "\n",
    "The square of the sum of the first ten natural numbers is,\n",
    "\n",
    "(1 + 2 + ... + 10)^2 = 552 = 3025\n",
    "Hence the difference between the sum of the squares of the first ten natural numbers and the square of the sum is 3025 − 385 = 2640.\n",
    "\n",
    "Find the difference between the sum of the squares of the first one hundred natural numbers and the square of the sum."
   ]
  },
  {
   "cell_type": "code",
   "execution_count": 1,
   "metadata": {
    "collapsed": false
   },
   "outputs": [
    {
     "name": "stdout",
     "output_type": "stream",
     "text": [
      "25164150\n"
     ]
    }
   ],
   "source": [
    "soma = 0\n",
    "soma_quadrados = 0\n",
    "\n",
    "for i in range(101):\n",
    "    soma += i\n",
    "    soma_quadrados += i**2\n",
    "\n",
    "dif = soma**2 - soma_quadrados\n",
    "\n",
    "print(dif)"
   ]
  },
  {
   "cell_type": "markdown",
   "metadata": {},
   "source": [
    "# Problem 7"
   ]
  },
  {
   "cell_type": "markdown",
   "metadata": {},
   "source": [
    "By listing the first six prime numbers: 2, 3, 5, 7, 11, and 13, we can see that the 6th prime is 13.\n",
    "\n",
    "What is the 10 001st prime number?"
   ]
  },
  {
   "cell_type": "code",
   "execution_count": 11,
   "metadata": {
    "collapsed": false
   },
   "outputs": [
    {
     "name": "stdout",
     "output_type": "stream",
     "text": [
      "104743\n"
     ]
    }
   ],
   "source": [
    "import math\n",
    "\n",
    "def gerar_primos(posicao):\n",
    "    \n",
    "    primos = [2,3,5,7,11]\n",
    "    i = len(primos)\n",
    "    n = 13\n",
    "    check = math.sqrt(n)\n",
    "    \n",
    "    while i < posicao:\n",
    "        for p in primos:\n",
    "            if n%p == 0:\n",
    "                break\n",
    "            \n",
    "            if p >check:\n",
    "                primos.append(n)\n",
    "                break\n",
    "        n += 2\n",
    "        check = math.sqrt(n)\n",
    "        i = len(primos)\n",
    "        \n",
    "    return(primos[-1])\n",
    "\n",
    "print(gerar_primos(10001))"
   ]
  },
  {
   "cell_type": "markdown",
   "metadata": {},
   "source": [
    "# Problem 8"
   ]
  },
  {
   "cell_type": "markdown",
   "metadata": {},
   "source": [
    "The four adjacent digits in the 1000-digit number that have the greatest product are 9 × 9 × 8 × 9 = 5832.\n",
    "\n",
    "73167176531330624919225119674426574742355349194934\n",
    "96983520312774506326239578318016984801869478851843\n",
    "85861560789112949495459501737958331952853208805511\n",
    "12540698747158523863050715693290963295227443043557\n",
    "66896648950445244523161731856403098711121722383113\n",
    "62229893423380308135336276614282806444486645238749\n",
    "30358907296290491560440772390713810515859307960866\n",
    "70172427121883998797908792274921901699720888093776\n",
    "65727333001053367881220235421809751254540594752243\n",
    "52584907711670556013604839586446706324415722155397\n",
    "53697817977846174064955149290862569321978468622482\n",
    "83972241375657056057490261407972968652414535100474\n",
    "82166370484403199890008895243450658541227588666881\n",
    "16427171479924442928230863465674813919123162824586\n",
    "17866458359124566529476545682848912883142607690042\n",
    "24219022671055626321111109370544217506941658960408\n",
    "07198403850962455444362981230987879927244284909188\n",
    "84580156166097919133875499200524063689912560717606\n",
    "05886116467109405077541002256983155200055935729725\n",
    "71636269561882670428252483600823257530420752963450\n",
    "\n",
    "Find the thirteen adjacent digits in the 1000-digit number that have the greatest product. What is the value of this product?"
   ]
  },
  {
   "cell_type": "code",
   "execution_count": 13,
   "metadata": {
    "collapsed": false
   },
   "outputs": [
    {
     "name": "stdout",
     "output_type": "stream",
     "text": [
      "23514624000\n"
     ]
    }
   ],
   "source": [
    "#Não está otimizado - o ideal é verificar se tem zero no meio dos números antes de sair multiplicando.\n",
    "\n",
    "string = \"7316717653133062491922511967442657474235534919493496983520312774506326239578318016984801869478851843858615607891129494954595017379583319528532088055111254069874715852386305071569329096329522744304355766896648950445244523161731856403098711121722383113622298934233803081353362766142828064444866452387493035890729629049156044077239071381051585930796086670172427121883998797908792274921901699720888093776657273330010533678812202354218097512545405947522435258490771167055601360483958644670632441572215539753697817977846174064955149290862569321978468622482839722413756570560574902614079729686524145351004748216637048440319989000889524345065854122758866688116427171479924442928230863465674813919123162824586178664583591245665294765456828489128831426076900422421902267105562632111110937054421750694165896040807198403850962455444362981230987879927244284909188845801561660979191338754992005240636899125607176060588611646710940507754100225698315520005593572972571636269561882670428252483600823257530420752963450\"\n",
    "vetor_numero = []\n",
    "\n",
    "for i in range(len(string)):\n",
    "  vetor_numero.append(int(string[i]))\n",
    "\n",
    "\n",
    "\n",
    "def prod(posicao):\n",
    "  produto = 1\n",
    "  for i in range(posicao, posicao - 13, -1):\n",
    "    produto = produto * vetor_numero[i]\n",
    "  return produto\n",
    "\n",
    "produto_maior = prod(12)\n",
    "posicao = 13\n",
    "produto = prod(12)\n",
    "\n",
    "\n",
    "while posicao<1000:\n",
    "  if vetor_numero[posicao] == 0 and posicao < 986:\n",
    "    posicao = posicao + 13\n",
    "    produto = prod(posicao)\n",
    "    \n",
    "    if produto > produto_maior:\n",
    "      produto_maior = produto\n",
    "      \n",
    "  elif vetor_numero[posicao] == 0 and posicao > 986:\n",
    "      posicao = 1000\n",
    "      \n",
    "  else:\n",
    "    produto = prod(posicao)\n",
    "    posicao = posicao + 1\n",
    "    \n",
    "    if produto > produto_maior:\n",
    "      produto_maior = produto\n",
    "    \n",
    "\n",
    "print(produto_maior)"
   ]
  },
  {
   "cell_type": "markdown",
   "metadata": {},
   "source": [
    "# Problem 9"
   ]
  },
  {
   "cell_type": "markdown",
   "metadata": {},
   "source": [
    "A Pythagorean triplet is a set of three natural numbers, a < b < c, for which,\n",
    "\n",
    "a^2 + b^2 = c^2\n",
    "For example, 3^2 + 4^2 = 9 + 16 = 25 = 5^2.\n",
    "\n",
    "There exists exactly one Pythagorean triplet for which a + b + c = 1000.\n",
    "Find the product abc."
   ]
  },
  {
   "cell_type": "code",
   "execution_count": 15,
   "metadata": {
    "collapsed": false
   },
   "outputs": [
    {
     "name": "stdout",
     "output_type": "stream",
     "text": [
      "produto 31875000\n",
      "a 200 b 375 c 425\n"
     ]
    }
   ],
   "source": [
    "def pit():\n",
    "  for i in range(1,500,+1):\n",
    "    a = i\n",
    "    for j in range(500,i,-1):\n",
    "      b = j\n",
    "      c = 1000 - a - b\n",
    "      \n",
    "      if a+b < 500:\n",
    "        break\n",
    "      \n",
    "      if a*b == 1000*(500 - c):\n",
    "        print('produto',a*b*c)\n",
    "        print('a',a, 'b',b, 'c',c)\n",
    "        break\n",
    "\n",
    "pit()"
   ]
  },
  {
   "cell_type": "markdown",
   "metadata": {},
   "source": [
    "# Problem 10"
   ]
  },
  {
   "cell_type": "markdown",
   "metadata": {},
   "source": [
    "The sum of the primes below 10 is 2 + 3 + 5 + 7 = 17.\n",
    "\n",
    "Find the sum of all the primes below two million."
   ]
  },
  {
   "cell_type": "code",
   "execution_count": 24,
   "metadata": {
    "collapsed": false
   },
   "outputs": [
    {
     "name": "stdout",
     "output_type": "stream",
     "text": [
      "142913828922\n"
     ]
    }
   ],
   "source": [
    "import math\n",
    "\n",
    "def soma_primos(primos,numero):\n",
    "    for i in range(primos[-1] + 2,numero,+2):\n",
    "        raiz = math.sqrt(i)\n",
    "        j = 0\n",
    "        primalidade = 1\n",
    "    \n",
    "        while primos[j] <= raiz:\n",
    "            if i%primos[j] == 0:\n",
    "                primalidade = 0\n",
    "                break    \n",
    "            j = j+1\n",
    "      \n",
    "        if primalidade == 1:\n",
    "            primos.append(i)\n",
    "    soma = 0\n",
    "    total = len(primos)\n",
    "    \n",
    "    for i in range(total):\n",
    "        soma+=primos[i]\n",
    "      \n",
    "    \n",
    "    return(soma) \n",
    "  \n",
    "numero = 2000000\n",
    "primos = [2,3,5,7,11]\n",
    "\n",
    "soma = soma_primos(primos, numero)\n",
    "print(soma)"
   ]
  }
 ],
 "metadata": {
  "kernelspec": {
   "display_name": "Python 3",
   "language": "python",
   "name": "python3"
  },
  "language_info": {
   "codemirror_mode": {
    "name": "ipython",
    "version": 3
   },
   "file_extension": ".py",
   "mimetype": "text/x-python",
   "name": "python",
   "nbconvert_exporter": "python",
   "pygments_lexer": "ipython3",
   "version": "3.6.0"
  }
 },
 "nbformat": 4,
 "nbformat_minor": 2
}
